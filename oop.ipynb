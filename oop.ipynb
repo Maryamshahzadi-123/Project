{
  "nbformat": 4,
  "nbformat_minor": 0,
  "metadata": {
    "colab": {
      "provenance": [],
      "authorship_tag": "ABX9TyNp61WfybAXqGNVxaJwvwIf",
      "include_colab_link": true
    },
    "kernelspec": {
      "name": "python3",
      "display_name": "Python 3"
    },
    "language_info": {
      "name": "python"
    }
  },
  "cells": [
    {
      "cell_type": "markdown",
      "metadata": {
        "id": "view-in-github",
        "colab_type": "text"
      },
      "source": [
        "<a href=\"https://colab.research.google.com/github/Maryamshahzadi-123/Project/blob/main/oop.ipynb\" target=\"_parent\"><img src=\"https://colab.research.google.com/assets/colab-badge.svg\" alt=\"Open In Colab\"/></a>"
      ]
    },
    {
      "cell_type": "code",
      "execution_count": null,
      "metadata": {
        "colab": {
          "base_uri": "https://localhost:8080/"
        },
        "id": "kATjJTkDvfzS",
        "outputId": "1ed815b4-5a69-45ae-ac8b-5d61c650a1c4"
      },
      "outputs": [
        {
          "output_type": "stream",
          "name": "stdout",
          "text": [
            "Enter student name (or type 'stop' to finish): maryam\n",
            "Enter Math score for maryam: 20\n",
            "Enter Science score for maryam: 30\n",
            "Enter English score for maryam: 40\n",
            "Enter student name (or type 'stop' to finish): shahzadi\n",
            "Enter Math score for shahzadi: 10\n",
            "Enter Science score for shahzadi: 0\n",
            "Enter English score for shahzadi: 30\n",
            "Enter student name (or type 'stop' to finish): stop\n",
            "Student: maryam, Average Score: 30.00, Status: Needs Improvement\n",
            "Student: shahzadi, Average Score: 13.33, Status: Needs Improvement\n",
            "Class Average: 21.67\n"
          ]
        }
      ],
      "source": [
        "2class Student:\n",
        "    def __init__(self, name, scores):\n",
        "        self.name = name\n",
        "        self.scores = scores\n",
        "\n",
        "    def calculate_average(self):\n",
        "        return sum(self.scores) / len(self.scores)\n",
        "\n",
        "    def is_passing(self, passing_score=40):\n",
        "        return all(score >= passing_score for score in self.scores)\n",
        "\n",
        "\n",
        "class PerformanceTracker:\n",
        "    def __init__(self):\n",
        "        self.students = {}\n",
        "\n",
        "    def add_student(self, name, scores):\n",
        "        if name in self.students:\n",
        "            print(f\"Student '{name}' already exists. Try a different name.\")\n",
        "            return\n",
        "        self.students[name] = Student(name, scores)\n",
        "\n",
        "    def calculate_class_average(self):\n",
        "        if not self.students:\n",
        "            print(\"No students in the tracker.\")\n",
        "            return 0\n",
        "        total_average = sum(student.calculate_average() for student in self.students.values())\n",
        "        return total_average / len(self.students)\n",
        "\n",
        "    def display_student_performance(self):\n",
        "        if not self.students:\n",
        "            print(\"No students in the tracker.\")\n",
        "            return\n",
        "        for student in self.students.values():\n",
        "            average = student.calculate_average()\n",
        "            status = \"Passing\" if student.is_passing() else \"Needs Improvement\"\n",
        "            print(f\"Student: {student.name}, Average Score: {average:.2f}, Status: {status}\")\n",
        "        print(f\"Class Average: {self.calculate_class_average():.2f}\")\n",
        "\n",
        "\n",
        "def manage_student_database():\n",
        "    tracker = PerformanceTracker()\n",
        "\n",
        "    while True:\n",
        "        name = input(\"Enter student name (or type 'stop' to finish): \").strip()\n",
        "        if name.lower() == 'stop':\n",
        "            break\n",
        "\n",
        "        scores = []\n",
        "        for subject in [\"Math\", \"Science\", \"English\"]:\n",
        "            while True:\n",
        "                try:\n",
        "                    score = int(input(f\"Enter {subject} score for {name}: \"))\n",
        "                    scores.append(score)\n",
        "                    break\n",
        "                except ValueError:\n",
        "                    print(\"Invalid input. Please enter an integer.\")\n",
        "\n",
        "        tracker.add_student(name, scores)\n",
        "\n",
        "    tracker.display_student_performance()\n",
        "\n",
        "\n",
        "# Run the program\n",
        "manage_student_database()\n",
        "\n",
        "\n",
        "\n",
        "\n"
      ]
    }
  ]
}